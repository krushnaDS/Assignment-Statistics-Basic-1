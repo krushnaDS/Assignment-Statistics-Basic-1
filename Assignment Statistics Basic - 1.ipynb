{
 "cells": [
  {
   "cell_type": "markdown",
   "id": "ded2283e",
   "metadata": {},
   "source": [
    "##### Q1. What is Statistics?\n",
    "\n",
    "Statistics is the science of collecting, organizing and analyzing data which helps in decsion making process.\n"
   ]
  },
  {
   "cell_type": "markdown",
   "id": "4bf0de30",
   "metadata": {},
   "source": [
    "##### Q2. Define the different types of statistics and give an example of when each type might be used.\n",
    "\n",
    "There are different types of statistics which are used for respective kind of decision making process:\n",
    "\n",
    "Types of statistics:\n",
    "\n",
    "- 1) Descriptive Statistics:\n",
    "Descriptive statistics is used to summarize and describe the properties of a sample or population. They include measures of 'central tendancies' such as mean,median and mode measures of variability such as range , variance and standard deviation and measure of shape such as skewness and kurtosis.\n",
    "\n",
    "- 2) Inferential Statistics:\n",
    "Inferential statistics are used to make inferences about a population based on a sample. They include hypothesis testing, confidence intervals and estimation."
   ]
  },
  {
   "cell_type": "markdown",
   "id": "13376c2d",
   "metadata": {},
   "source": [
    "##### Q3. What are the different types of data and how do they differ from each other? Provide an example ofeach type of data.\n",
    "\n",
    "Types of Data:\n",
    "\n",
    "- 1) Quantitative data:\n",
    "Quantitative data is data that can be measured numerically. It can be collected through methods such as experiments ,surveys and sensors.\n",
    "\n",
    "Quantitative data can be further classified:\n",
    "- Discrete data\n",
    "- Continous data\n",
    "\n",
    "\n",
    "eg Height,weight \n",
    "\n",
    "- 2) Qualitative data:\n",
    "Qualitative data is a non-numerical and cannot be measured precisely It is descriptive and conceptual in nature.\n",
    " Qualitative data can be further classified :-\n",
    " \n",
    " - Binary data\n",
    " This type of data can only take on two values (yes/no,true/false).\n",
    " - Nominal data\n",
    " This data can be categorized but there is no natural order to the categories.\n",
    " "
   ]
  },
  {
   "cell_type": "markdown",
   "id": "cd04b1e3",
   "metadata": {},
   "source": [
    "##### Q4. Categorise the following datasets with respect to quantitative and qualitative data types:\n",
    "(i) Grading in exam: A+, A, B+, B, C+, C, D, E\n",
    "- Ordinal Data(Qualitative)\n",
    "\n",
    "(ii) Colour of mangoes: yellow, green, orange, red\n",
    "- Nominal data(Qualitative)\n",
    "\n",
    "(iii) Height data of a class: [178.9, 179, 179.5, 176, 177.2, 178.3, 175.8,...]\n",
    "- Continous data(Quantitative)\n",
    "\n",
    "(iv) Number of mangoes exported by a farm: [500, 600, 478, 672, ...]\n",
    "- Discrete data(Quantitative)"
   ]
  },
  {
   "cell_type": "markdown",
   "id": "c3abc01b",
   "metadata": {},
   "source": [
    "##### Q5. Explain the concept of levels of measurement and give an example of a variable for each level.\n",
    "\n",
    " level of measurement is used to describe information within the values. The four measurement levels, in order, from the lowest level of information to the highest level of information are as follows:\n",
    " \n",
    "1) 1st Level of measurement:\n",
    "Nominal scale data is a type of data ie used to label and which cannot be ordered or measured.\n",
    "eg. Color, gender\n",
    "\n",
    "2) 2nd Level of measurement:\n",
    "Ordinal scale of data is a type of data ie. is used to rank variables. this data can be ordered but the difference is unknown.\n",
    "eg. Movie ratings, customer ratings\n",
    "\n",
    "3) 3rd Level of measurement:\n",
    "Interval scale data is a type of data ie used to measure varaibles on a scale with equal intervals between the categories. ratio cannot be measured.\n",
    "eg. Temperature,height,weight\n",
    "\n",
    "4) 4th Level of measurement:\n",
    "Ratio scale data is a type of data that is used to measure variables on scale with equal intervals between the categories and a true zero point.\n",
    "eg. Length, time"
   ]
  },
  {
   "cell_type": "markdown",
   "id": "89c9dbb8",
   "metadata": {},
   "source": [
    "##### Q6. Why is it important to understand the level of measurement when analyzing data? Provide an example to illustrate your answer.\n",
    "\n",
    "Understanding the level of measurement of your data is crucial in data analysis for two main reasons:\n",
    "\n",
    "1) Choosing appropriate statistical tests:\n",
    "Different levels of measurement allow for different statistical analysis. Using the wrong test on data with the wrong measurement level can lead to misleading results.\n",
    "\n",
    "2) Making accurate inferences:\n",
    "The level of measurement determines what kind of conclusions you can draw from your data.\n",
    "\n",
    "- Example:\n",
    "\n",
    "Imagine you're analyzing a survey that asks people to rate their satisfaction with a new product on a scale of 1 (very dissatisfied) to 5 (very satisfied). This data is ordinal. You can determine the most common rating (mode) and order the ratings from least to most satisfied (median).\n",
    "\n",
    "However, you cannot calculate the average satisfaction and say, for instance, that the average customer is 3.2 satisfied. This is because the difference between a 1 and a 2 on the scale might not represent the same difference in satisfaction as the difference between a 4 and a 5. The scale doesn't tell you the exact interval between each level of satisfaction.\n",
    "\n",
    "By understanding that the data is ordinal, you choose appropriate descriptive statistics (like mode or median) and avoid making misleading claims about the average satisfaction."
   ]
  },
  {
   "cell_type": "markdown",
   "id": "40cf703e",
   "metadata": {},
   "source": [
    "##### Q7. How nominal data type is different from ordinal data type.\n",
    "\n",
    "Both nominal and ordinal data types are used for classifying information, but they differ in how the categories are ordered.\n",
    "\n",
    "- Nominal data:\n",
    "  - Represents categories with no inherent order\n",
    "  - Think of it as labeling things\n",
    "  - we can't perform mathematical operations on nominal data.\n",
    "  - eg. Hair color, shirt size\n",
    "  \n",
    "- Ordinal data:\n",
    "  - Represents categories with a specific order\n",
    "  - There's hierarchy, but the difference between categories might not be equal\n",
    "  - You can't perform full mathematical operations on ordinal data but we can determine which category is higher or lower.\n",
    "  \n",
    "  - eg. Customer satisfaction level, education level.\n",
    "  \n",
    "  "
   ]
  },
  {
   "cell_type": "markdown",
   "id": "ec48006e",
   "metadata": {},
   "source": [
    "##### Q8. Which type of plot can be used to display data in terms of range? \n",
    "\n",
    "There are two main plot types that can be used to display data in terms of range:\n",
    "\n",
    "- Box Plot:\n",
    "\n",
    "    - A box plot shows the distribution of data with a box representing the middle quartiles (25th percentile to 75th percentile).\n",
    "    - Lines extend from the box to show the minimum and maximum values (or outliers) within a certain threshold (usually 1.5 times the interquartile range).\n",
    "    - Box plots are great for visually comparing the range and distribution of data across different categories.\n",
    "\n",
    "- Range Plot (or Error Bar Plot):\n",
    "\n",
    "    - A range plot specifically focuses on displaying the range of data for each category or data point.\n",
    "    - It typically uses two bars or markers on the x-axis connected by a line segment to represent the minimum and maximum values.\n",
    "    - This plot emphasizes the spread or variability within a category and can be used to compare ranges between groups."
   ]
  },
  {
   "cell_type": "markdown",
   "id": "5951223f",
   "metadata": {},
   "source": [
    "##### Q9. Describe the difference between descriptive and inferential statistics. Give an example of each type of statistics and explain how they are used.\n",
    "\n",
    "1) Descriptive Statistics:\n",
    "Descriptive statistics is used to summarize and describe the properties of a sample or population. They include measures of 'central tendancies' such as mean,median and mode measures of variability such as range , variance and standard deviation and measure of shape such as skewness and kurtosis.\n",
    "\n",
    "- 2) Inferential Statistics:\n",
    "Inferential statistics are used to make inferences about a population based on a sample. They include hypothesis testing, confidence intervals and estimation."
   ]
  },
  {
   "cell_type": "markdown",
   "id": "c597a912",
   "metadata": {},
   "source": [
    "##### Q10. What are some common measures of central tendency and variability used in statistics? Explain how each measure can be used to describe a dataset.\n",
    "\n",
    "Central Tendancy : Describing the center\n",
    "Measure of central tendancy aim to summarize a dataset with a single value representing the 'center' of the data. here are three common ones:\n",
    "\n",
    "1. Mean:\n",
    "- Also known as the average it's the sum of all values divided by the number of values.\n",
    "- The mean is a good choice for data with a symmetrical distribution without extreme outliers.\n",
    "\n",
    "2. Median:\n",
    "- The middle value when the data is arranged in ascending or descending order.\n",
    "- The median is less sensitive to outliers.\n",
    "\n",
    "3. Mode:\n",
    "- The most frequent value in the dataset.\n",
    "- The mode can be useful for identifying the most common category in nominal data.\n",
    "\n",
    "Variability : Describing the spread\n",
    "\n",
    "1. Range:\n",
    "- The simplest measure, it's the difference between the highest and lowest values.\n",
    "- The range can be easily influenced by outliers and doesn't provide much information about the distribution within the range.\n",
    "\n",
    "2. Standard deviation:\n",
    "- A more informative measure, it tells us how much, on average each data point deviates from the mean."
   ]
  },
  {
   "cell_type": "code",
   "execution_count": null,
   "id": "a488c4d0",
   "metadata": {},
   "outputs": [],
   "source": []
  }
 ],
 "metadata": {
  "kernelspec": {
   "display_name": "Python 3 (ipykernel)",
   "language": "python",
   "name": "python3"
  },
  "language_info": {
   "codemirror_mode": {
    "name": "ipython",
    "version": 3
   },
   "file_extension": ".py",
   "mimetype": "text/x-python",
   "name": "python",
   "nbconvert_exporter": "python",
   "pygments_lexer": "ipython3",
   "version": "3.10.9"
  }
 },
 "nbformat": 4,
 "nbformat_minor": 5
}
